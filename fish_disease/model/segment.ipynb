version https://git-lfs.github.com/spec/v1
oid sha256:2779a93883d41003856da1d02ab437a1dded55d9fe0dca0d3286043526c6a634
size 296092
