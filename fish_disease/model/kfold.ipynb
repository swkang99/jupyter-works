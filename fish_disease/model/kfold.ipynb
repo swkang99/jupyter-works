version https://git-lfs.github.com/spec/v1
oid sha256:dca7122c78003088415a4926ee34915c33b52cace794450729ad697b1f8edf96
size 3888
