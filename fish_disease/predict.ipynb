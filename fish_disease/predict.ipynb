version https://git-lfs.github.com/spec/v1
oid sha256:d9460a9ba61450a9c3a57d9bcef7e16f8b5898fc3b335d2b353b6162fbb11cfa
size 39053
