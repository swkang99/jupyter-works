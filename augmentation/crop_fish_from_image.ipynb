version https://git-lfs.github.com/spec/v1
oid sha256:737aa481b5bdcf438689b613e9cadc840cad4cde0e407381b0ec07194c0c847f
size 170620
