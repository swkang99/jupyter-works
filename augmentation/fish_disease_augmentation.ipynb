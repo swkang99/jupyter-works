{
 "cells": [
  {
   "cell_type": "code",
   "execution_count": 1,
   "id": "146bbd34",
   "metadata": {},
   "outputs": [],
   "source": [
    "%matplotlib inline"
   ]
  },
  {
   "cell_type": "code",
   "execution_count": 2,
   "id": "28bbc153",
   "metadata": {},
   "outputs": [],
   "source": [
    "import random\n",
    "import cv2\n",
    "from matplotlib import pyplot as plt\n",
    "\n",
    "import albumentations as A\n",
    "\n",
    "import sys\n",
    "import os\n",
    "import numpy as np"
   ]
  },
  {
   "cell_type": "code",
   "execution_count": 21,
   "id": "7d752429",
   "metadata": {},
   "outputs": [],
   "source": [
    "\"\"\"파일 경로 설정\"\"\"\n",
    "root_dir = \"C:/Users/user/fish_disease_dataset/multy_class_with_fish_bbox/set/\" # 데이터셋 경로\n",
    "img_dir = root_dir + \"origin/valid/images/\" \n",
    "label_dir = root_dir + \"origin/valid/labels/\""
   ]
  },
  {
   "cell_type": "code",
   "execution_count": null,
   "id": "6e120b1f",
   "metadata": {},
   "outputs": [],
   "source": [
    "# 좌우반전(rot_hf)\n",
    "aug_type = \"_rot_hf\" \n",
    "transform = A.Compose(\n",
    "    [A.HorizontalFlip(p=1)],\n",
    "    bbox_params=A.BboxParams(format='yolo', label_fields=['category_ids']),\n",
    ")"
   ]
  },
  {
   "cell_type": "code",
   "execution_count": null,
   "id": "d4a39d8c",
   "metadata": {},
   "outputs": [],
   "source": [
    "# 15도 회전(rot_15) \n",
    "aug_type = \"_rot_15\"\n",
    "transform = A.Compose(\n",
    "    [A.Rotate(limit=(15, 15), p=1, border_mode=cv2.BORDER_REPLICATE)], # 빈곳을 인접 이미지의 복사로 채움\n",
    "    bbox_params=A.BboxParams(format='yolo', label_fields=['category_ids'])\n",
    ")"
   ]
  },
  {
   "cell_type": "code",
   "execution_count": null,
   "id": "d27cc62a",
   "metadata": {},
   "outputs": [],
   "source": [
    "# 명암 조절(어둡게, 약간만)(bright_down)\n",
    "aug_type = \"_bright_down\"\n",
    "transform = A.Compose(\n",
    "    [A.RandomBrightnessContrast(brightness_limit = (-0.15, -0.15), p=1)],\n",
    "    bbox_params=A.BboxParams(format='yolo', label_fields=['category_ids']),\n",
    ")"
   ]
  },
  {
   "cell_type": "code",
   "execution_count": 8,
   "id": "69fd949c",
   "metadata": {},
   "outputs": [],
   "source": [
    "# 축소-0.2(out_0.2)\n",
    "aug_type = \"_out_0.2\"\n",
    "transform = A.Compose(\n",
    "    [A.ShiftScaleRotate(shift_limit=0, rotate_limit=0, scale_limit = (-0.2, -0.2), p=1, \n",
    "     border_mode=cv2.BORDER_CONSTANT)], # 빈곳을 검은색으로 채움\n",
    "    bbox_params=A.BboxParams(format='yolo', label_fields=['category_ids']),\n",
    ")"
   ]
  },
  {
   "cell_type": "code",
   "execution_count": 18,
   "id": "e24888e9",
   "metadata": {},
   "outputs": [],
   "source": [
    "# crop 영역 계산\n",
    "def get_crop_region(bbox, img_w, img_h):\n",
    "    x, y, w, h = bbox\n",
    "    w_half, h_half = w / 2, h / 2\n",
    "    \n",
    "    x_min, x_max = x - w_half, x + w_half\n",
    "    y_min, y_max = y - h_half, y + h_half\n",
    "    \n",
    "    x_min = int(x_min * img_w)\n",
    "    y_min = int(y_min * img_h)\n",
    "    x_max = int(x_max * img_w)\n",
    "    y_max = int(y_max * img_h)\n",
    "    \n",
    "    return x_min, y_min, x_max, y_max"
   ]
  },
  {
   "cell_type": "code",
   "execution_count": 22,
   "id": "cf7cd1c8",
   "metadata": {},
   "outputs": [],
   "source": [
    "\"\"\"증강 실행 코드\"\"\"\n",
    "\n",
    "# 라벨 폴더 읽어오기\n",
    "label_file_list = os.listdir(label_dir)\n",
    "\n",
    "# 이미지 폴더 읽어오기\n",
    "img_file_list = os.listdir(img_dir)\n",
    "\n",
    "category_id_to_name = {0: 'bleeding', 1: 'defect', 2: 'necrosis', 3: 'fish'}\n",
    "\n",
    "for img in img_file_list:\n",
    "    image = cv2.imread(img_dir + img)\n",
    "    image = cv2.cvtColor(image, cv2.COLOR_BGR2RGB)\n",
    "    img_width = image.shape[1]\n",
    "    img_height = image.shape[0]\n",
    "    \n",
    "    bboxes = []\n",
    "    \n",
    "    with open(label_dir + img[:-4] + \".txt\", 'r') as f: # 라벨 txt 파일 내용 \"2차원 리스트로\" 읽어오기\n",
    "        bbox = []\n",
    "        category_ids = []\n",
    "        \n",
    "        while True:\n",
    "            line = f.readline()\n",
    "            \n",
    "            if line == \"\":\n",
    "                break\n",
    "            elif '\\n' in line:\n",
    "                line.replace('\\n', '')\n",
    "                \n",
    "            data = line.split(\" \")\n",
    "            category_ids.append(int(data[0]))\n",
    "            del data[0]\n",
    "            \n",
    "            for d in data:\n",
    "                 bbox.append(float(d))\n",
    "                \n",
    "            bboxes.append(bbox) \n",
    "            bbox = []\n",
    "            \n",
    "#     print(img[:6], \" -> \", bboxes, \" \", category_ids)\n",
    "    \n",
    "    # 증강 파이프라인 설정\n",
    "    \n",
    "    # 물고기 bbox 크롭(crop)\n",
    "    aug_type = \"_crop\"\n",
    "    x_min, y_min, x_max, y_max = get_crop_region(bboxes[1], img_width, img_height)\n",
    "    transform = A.Compose(\n",
    "        [A.Crop(x_min, y_min, x_max, y_max, p=1)],\n",
    "        bbox_params=A.BboxParams(format='yolo', label_fields=['category_ids']),\n",
    "    )\n",
    "    \n",
    "    # 증강\n",
    "    transformed = transform(image=image, bboxes=bboxes, category_ids=category_ids)\n",
    "#     try:\n",
    "#         transformed = transform(image=image, bboxes=bboxes, category_ids=category_ids)\n",
    "#     except:\n",
    "#         print(\"오류 이미지: \", img)\n",
    "#         break\n",
    "    \n",
    "    # 결과 저장 경로 설정\n",
    "#     img_save_path = root_dir + \"aug/\" + aug_type + \"/images/\"\n",
    "#     label_save_path = root_dir + \"aug/\" + aug_type + \"/labels/\"\n",
    "    img_save_path = root_dir + \"valid/images/\"\n",
    "    label_save_path = root_dir + \"valid/labels/\"\n",
    "\n",
    "    # 증강된 이미지 저장\n",
    "    cv2.imwrite(img_save_path + img[:-4] + aug_type + \".jpg\", transformed[\"image\"])\n",
    "\n",
    "    # 증강된 바운딩 박스 라벨로 저장\n",
    "    q = open(label_save_path + img[:-4] + aug_type + \".txt\", 'w')\n",
    "    q.close()\n",
    "    with open(label_save_path + img[:-4] + aug_type + \".txt\", 'a') as fi:\n",
    "        for i in range(len(transformed[\"bboxes\"])):\n",
    "            fi.write(str(category_ids[i]) + \" \")\n",
    "            fi.write(str(transformed[\"bboxes\"][i][0]) + \" \")\n",
    "            fi.write(str(transformed[\"bboxes\"][i][1]) + \" \")\n",
    "            fi.write(str(transformed[\"bboxes\"][i][2]) + \" \")\n",
    "            fi.write(str(transformed[\"bboxes\"][i][3]) + \"\\n\")\n",
    "    "
   ]
  },
  {
   "cell_type": "code",
   "execution_count": 23,
   "id": "1fefdf94",
   "metadata": {},
   "outputs": [],
   "source": [
    "# crop된 이미지의 라벨들에서 물고기 bbox를 제거\n",
    "label_dir = root_dir + \"valid/labels/\"\n",
    "label_file_list = os.listdir(label_dir)\n",
    "for label in label_file_list:\n",
    "    with open(label_dir + label, \"r\") as f:\n",
    "        lines = f.readlines()\n",
    "    with open(label_dir + label, \"w\") as f:\n",
    "        f.write(lines[0])"
   ]
  },
  {
   "cell_type": "code",
   "execution_count": 15,
   "id": "a09d649f",
   "metadata": {},
   "outputs": [],
   "source": [
    "# set1 준비: crop 데이터셋에서 증강이 적용되지 않은 데이터를 복사\n",
    "import shutil\n",
    "data_type = \"labels\" # images, labels\n",
    "source_dir = root_dir + \"aug/_crop/\" + data_type + \"/\"\n",
    "target_dir = root_dir + \"set1/train/\" + data_type + \"/\"\n",
    "file_list = os.listdir(source_dir)\n",
    "for file in file_list:\n",
    "    if \"_bright_down\" in file or \"rot_15\" in file or \"rot_hf\" in file:\n",
    "        continue\n",
    "    else:\n",
    "        shutil.copy(source_dir + file, target_dir + file)"
   ]
  },
  {
   "cell_type": "code",
   "execution_count": null,
   "id": "fb0360e6",
   "metadata": {},
   "outputs": [],
   "source": []
  }
 ],
 "metadata": {
  "kernelspec": {
   "display_name": "Python 3 (ipykernel)",
   "language": "python",
   "name": "python3"
  },
  "language_info": {
   "codemirror_mode": {
    "name": "ipython",
    "version": 3
   },
   "file_extension": ".py",
   "mimetype": "text/x-python",
   "name": "python",
   "nbconvert_exporter": "python",
   "pygments_lexer": "ipython3",
   "version": "3.8.13"
  }
 },
 "nbformat": 4,
 "nbformat_minor": 5
}
