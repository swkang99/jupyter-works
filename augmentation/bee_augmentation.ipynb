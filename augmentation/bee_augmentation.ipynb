version https://git-lfs.github.com/spec/v1
oid sha256:8f7685bdd5de35a2392792095b8dbeccb89af42a333719442b8fbebdabdbfc80
size 6179
