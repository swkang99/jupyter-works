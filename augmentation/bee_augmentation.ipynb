{
 "cells": [
  {
   "cell_type": "code",
   "execution_count": 2,
   "id": "f53d0074",
   "metadata": {},
   "outputs": [
    {
     "name": "stdout",
     "output_type": "stream",
     "text": [
      "1.3.0\n"
     ]
    }
   ],
   "source": [
    "import random\n",
    "import cv2\n",
    "from matplotlib import pyplot as plt\n",
    "\n",
    "import albumentations as A\n",
    "\n",
    "import sys\n",
    "import os\n",
    "import numpy as np\n",
    "\n",
    "print(A.__version__)"
   ]
  },
  {
   "cell_type": "code",
   "execution_count": 3,
   "id": "bf3b8d32",
   "metadata": {},
   "outputs": [],
   "source": [
    "# bbox 포함 크롭\n",
    "aug_type = \"_bsr_crop\"\n",
    "transform = A.Compose(\n",
    "    [A.BBoxSafeRandomCrop(p=1)],\n",
    "    bbox_params=A.BboxParams(format='yolo', label_fields=['category_ids'])\n",
    ")"
   ]
  },
  {
   "cell_type": "code",
   "execution_count": 14,
   "id": "aef9e9fa",
   "metadata": {},
   "outputs": [],
   "source": [
    "# 밝기 조절\n",
    "aug_type = \"_bright\"\n",
    "transform = A.Compose(\n",
    "    [A.RandomBrightnessContrast(brightness_limit = (-0.10, 0.10), p=1)],\n",
    "    bbox_params=A.BboxParams(format='yolo', label_fields=['category_ids']),\n",
    ")"
   ]
  },
  {
   "cell_type": "code",
   "execution_count": 11,
   "id": "01587974",
   "metadata": {},
   "outputs": [],
   "source": [
    "# 좌우반전(rot_hf)\n",
    "aug_type = \"_rot_hf\" \n",
    "transform = A.Compose(\n",
    "    [A.HorizontalFlip(p=1)],\n",
    "    bbox_params=A.BboxParams(format='yolo', label_fields=['category_ids']),\n",
    ")"
   ]
  },
  {
   "cell_type": "code",
   "execution_count": 9,
   "id": "d8459eb7",
   "metadata": {},
   "outputs": [],
   "source": [
    "# 상하반전(rot_vf)\n",
    "aug_type = \"_rot_vf\" \n",
    "transform = A.Compose(\n",
    "    [A.VerticalFlip(p=1)],\n",
    "    bbox_params=A.BboxParams(format='yolo', label_fields=['category_ids']),\n",
    ")"
   ]
  },
  {
   "cell_type": "code",
   "execution_count": 5,
   "id": "16f6c27a",
   "metadata": {},
   "outputs": [],
   "source": [
    "\"\"\"파일 경로 설정 및 읽어오기\"\"\"\n",
    "root_dir = \"C:/Users/user/bee_dataset/\" # 데이터셋 경로\n",
    "img_dir = root_dir + \"set_origin/train/images/\" \n",
    "label_dir = root_dir + \"set_origin/train/labels/\"\n",
    "\n",
    "# 라벨 폴더 읽어오기\n",
    "label_file_list = os.listdir(label_dir)\n",
    "\n",
    "# 이미지 폴더 읽어오기\n",
    "img_file_list = os.listdir(img_dir)\n",
    "\n",
    "category_id_to_name = {\n",
    "    0 : 'AB_LI', \n",
    "    1 : 'AB_CA', \n",
    "    2 : 'AB_AP', \n",
    "    3 : 'AB_BI', \n",
    "    4 : 'QB_LI', \n",
    "    5 : 'QB_CA', \n",
    "    6 : 'QB_AP', \n",
    "    7 : 'QB_BI'\n",
    "}"
   ]
  },
  {
   "cell_type": "code",
   "execution_count": 6,
   "id": "b6161d59",
   "metadata": {},
   "outputs": [
    {
     "name": "stdout",
     "output_type": "stream",
     "text": [
      "오류 이미지:  01_1_R_AB_AP_20220811_03_0128.jpg\n",
      "_bsr_crop 증강 완료\n"
     ]
    }
   ],
   "source": [
    "for img in img_file_list:\n",
    "    image = cv2.imread(img_dir + img)\n",
    "    img_width = image.shape[1]\n",
    "    img_height = image.shape[0]\n",
    "    \n",
    "    bboxes = []\n",
    "    \n",
    "    with open(label_dir + img[:-4] + \".txt\", 'r') as f: # 라벨 txt 파일 내용 \"2차원 리스트로\" 읽어오기\n",
    "        bbox = []\n",
    "        category_ids = []\n",
    "        \n",
    "        while True:\n",
    "            line = f.readline()\n",
    "            \n",
    "            if line == \"\":\n",
    "                break\n",
    "            elif '\\n' in line:\n",
    "                line.replace('\\n', '')\n",
    "                \n",
    "            data = line.split(\" \")\n",
    "            category_ids.append(int(data[0]))\n",
    "            del data[0]\n",
    "            \n",
    "            for d in data:\n",
    "                 bbox.append(float(d))\n",
    "                \n",
    "            bboxes.append(bbox) \n",
    "            bbox = []\n",
    "            \n",
    "    \n",
    "    # 증강 파이프라인 설정\n",
    "    \n",
    "    # 증강\n",
    "    try:\n",
    "        transformed = transform(image=image, bboxes=bboxes, category_ids=category_ids)\n",
    "    except:\n",
    "        print(\"오류 이미지: \", img)\n",
    "    \n",
    "    # 결과 저장 경로 설정\n",
    "    img_save_path = root_dir + \"set_crop/train/images/\"\n",
    "    label_save_path = root_dir + \"set_crop/train/labels/\"\n",
    "\n",
    "    # 증강된 이미지 저장\n",
    "    cv2.imwrite(img_save_path + img[:-4] + aug_type + \".jpg\", transformed[\"image\"])\n",
    "\n",
    "    # 증강된 바운딩 박스 라벨로 저장\n",
    "#     q = open(label_save_path + img[:-4] + aug_type + \".txt\", 'w')\n",
    "#     q.close()\n",
    "    with open(label_save_path + img[:-4] + aug_type + \".txt\", 'a') as fi:\n",
    "        for i in range(len(transformed[\"bboxes\"])):\n",
    "            fi.write(str(category_ids[i]) + \" \")\n",
    "            fi.write(str(transformed[\"bboxes\"][i][0]) + \" \")\n",
    "            fi.write(str(transformed[\"bboxes\"][i][1]) + \" \")\n",
    "            fi.write(str(transformed[\"bboxes\"][i][2]) + \" \")\n",
    "            fi.write(str(transformed[\"bboxes\"][i][3]) + \"\\n\")\n",
    "            \n",
    "print(aug_type, \"증강 완료\")"
   ]
  },
  {
   "cell_type": "code",
   "execution_count": null,
   "id": "f0dde11a",
   "metadata": {},
   "outputs": [],
   "source": []
  }
 ],
 "metadata": {
  "kernelspec": {
   "display_name": "Python 3 (ipykernel)",
   "language": "python",
   "name": "python3"
  },
  "language_info": {
   "codemirror_mode": {
    "name": "ipython",
    "version": 3
   },
   "file_extension": ".py",
   "mimetype": "text/x-python",
   "name": "python",
   "nbconvert_exporter": "python",
   "pygments_lexer": "ipython3",
   "version": "3.8.13"
  }
 },
 "nbformat": 4,
 "nbformat_minor": 5
}
