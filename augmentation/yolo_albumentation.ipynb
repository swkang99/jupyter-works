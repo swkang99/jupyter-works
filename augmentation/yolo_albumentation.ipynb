{
 "cells": [
  {
   "cell_type": "code",
   "execution_count": 8,
   "metadata": {
    "scrolled": true
   },
   "outputs": [
    {
     "name": "stdout",
     "output_type": "stream",
     "text": [
      "[(0.33279873121537995, 0.6708143237911097, 0.6621308658991834, 0.6583713524177806)]\n"
     ]
    }
   ],
   "source": [
    "import albumentations as A\n",
    "import cv2\n",
    "\n",
    "data_dir = 'C:/Users/kseongwoo/datasets/polyp/612polyp/img/'\n",
    "\n",
    "'''load image'''\n",
    "image = cv2.imread(data_dir + \"1.tif\")\n",
    "image = cv2.cvtColor(image, cv2.COLOR_BGR2RGB)\n",
    "# cv2.imshow('image', image)\n",
    "# cv2.waitKey()\n",
    "# cv2.destroyAllWindows()\n",
    "\n",
    "bboxes = [\n",
    "    [0.395833, 0.755208, 0.583333, 0.434028]\n",
    "]\n",
    "class_labels = ['polyp']\n",
    "\n",
    "# Declare an augmentation pipeline\n",
    "transform = A.Compose([\n",
    "    A.Flip(p=0.5),\n",
    "    A.Rotate(p=0.5)\n",
    "], bbox_params=A.BboxParams(format='yolo', label_fields=['class_labels']))\n",
    "\n",
    "transformed = transform(image=image, bboxes=bboxes, class_labels=class_labels)\n",
    "transformed_image = transformed['image']\n",
    "transformed_bboxes = transformed['bboxes']\n",
    "transformed_class_labels = transformed['class_labels']\n",
    "\n",
    "cv2.imwrite(\"polyp_image_augmented.png\", transformed_image)\n",
    "print(transformed_bboxes)"
   ]
  },
  {
   "cell_type": "code",
   "execution_count": null,
   "metadata": {},
   "outputs": [],
   "source": []
  }
 ],
 "metadata": {
  "kernelspec": {
   "display_name": "Python 3",
   "language": "python",
   "name": "python3"
  },
  "language_info": {
   "codemirror_mode": {
    "name": "ipython",
    "version": 3
   },
   "file_extension": ".py",
   "mimetype": "text/x-python",
   "name": "python",
   "nbconvert_exporter": "python",
   "pygments_lexer": "ipython3",
   "version": "3.8.5"
  }
 },
 "nbformat": 4,
 "nbformat_minor": 5
}
