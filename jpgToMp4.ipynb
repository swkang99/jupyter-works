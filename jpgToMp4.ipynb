{
 "cells": [
  {
   "cell_type": "markdown",
   "id": "deb96b19",
   "metadata": {},
   "source": [
    "### jpg 이미지들을 하나의 mp4 파일로 결합\n",
    "##### 출처: https://data-newbie.tistory.com/384"
   ]
  },
  {
   "cell_type": "code",
   "execution_count": 1,
   "id": "8c5fc418",
   "metadata": {},
   "outputs": [],
   "source": [
    "import re\n",
    "import os\n",
    "import numpy as np\n",
    "\n",
    "def convert(seq_num):\n",
    "    path = \"C:/Users/kseongwoo/datasets/Polyp/18_video/SeqsVideo/\" + str(seq_num)\n",
    "    paths = [os.path.join(path , i ) for i in os.listdir(path) if re.search(\".jpg$\", i )]\n",
    "    ## 정렬 작업\n",
    "    store1 = []\n",
    "    store2 = []\n",
    "    for i in paths :\n",
    "        if len(i) == 19 :\n",
    "            store2.append(i)\n",
    "        else :\n",
    "            store1.append(i)\n",
    "\n",
    "    paths = list(np.sort(store1)) + list(np.sort(store2))\n",
    "\n",
    "    pathIn= 'C:/Users/kseongwoo/datasets/Polyp/18_video/SeqsVideo/' + str(seq_num)\n",
    "    pathOut = 'C:/Users/kseongwoo/datasets/Polyp/18_video/SeqsVideo/' + str(seq_num) + '/video.mp4'\n",
    "    fps = 30\n",
    "    import cv2\n",
    "    frame_array = []\n",
    "    for idx , path in enumerate(paths) : \n",
    "        if (idx % 2 == 0) | (idx % 5 == 0) :\n",
    "            continue\n",
    "        img = cv2.imread(path)\n",
    "        height, width, layers = img.shape\n",
    "        size = (width,height)\n",
    "        frame_array.append(img)\n",
    "    out = cv2.VideoWriter(pathOut,cv2.VideoWriter_fourcc(*'DIVX'), fps, size)\n",
    "    for i in range(len(frame_array)):\n",
    "        # writing to a image array\n",
    "        out.write(frame_array[i])\n",
    "    out.release()\n",
    "    \n",
    "    print(\"sequence \" + str(seq_num) + \"is done\")"
   ]
  },
  {
   "cell_type": "code",
   "execution_count": 3,
   "id": "37903e08",
   "metadata": {},
   "outputs": [],
   "source": [
    "for i in range(1, 19):\n",
    "    convert(i)"
   ]
  },
  {
   "cell_type": "code",
   "execution_count": null,
   "id": "7bf2ea41",
   "metadata": {},
   "outputs": [],
   "source": []
  }
 ],
 "metadata": {
  "kernelspec": {
   "display_name": "Python 3 (ipykernel)",
   "language": "python",
   "name": "python3"
  },
  "language_info": {
   "codemirror_mode": {
    "name": "ipython",
    "version": 3
   },
   "file_extension": ".py",
   "mimetype": "text/x-python",
   "name": "python",
   "nbconvert_exporter": "python",
   "pygments_lexer": "ipython3",
   "version": "3.8.13"
  }
 },
 "nbformat": 4,
 "nbformat_minor": 5
}
