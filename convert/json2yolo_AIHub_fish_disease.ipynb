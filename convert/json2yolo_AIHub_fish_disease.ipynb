version https://git-lfs.github.com/spec/v1
oid sha256:5ce04fc744f9cf96683ebbc63413b70176ed2c11365458fd4207c4597f4c178f
size 15584
